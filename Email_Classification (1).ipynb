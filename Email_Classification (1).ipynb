{
  "cells": [
    {
      "cell_type": "code",
      "source": [
        "#DATASET\n",
        "import pandas as pd\n",
        "url = 'https://raw.githubusercontent.com/justmarkham/pycon-2016-tutorial/master/data/sms.tsv'\n",
        "df = pd.read_csv(url, sep='\\t')\n",
        "df.columns = ['label', 'message']\n",
        "df.head()\n",
        "df.shape"
      ],
      "metadata": {
        "colab": {
          "base_uri": "https://localhost:8080/"
        },
        "id": "7ekkKZZAHE7q",
        "outputId": "44ce1f7b-2962-4a4f-e365-9384bf962918"
      },
      "execution_count": 2,
      "outputs": [
        {
          "output_type": "execute_result",
          "data": {
            "text/plain": [
              "(5571, 2)"
            ]
          },
          "metadata": {},
          "execution_count": 2
        }
      ]
    },
    {
      "cell_type": "code",
      "source": [
        "#PREPROCESSING\n",
        "import re\n",
        "import string\n",
        "from sklearn.feature_extraction.text import TfidfVectorizer\n",
        "\n",
        "# Step 3: Define a function for text preprocessing\n",
        "def clean_text(text):\n",
        "    text = text.lower()  # Convert to lowercase\n",
        "    text = re.sub(r'\\d+', '', text)  # Remove digits\n",
        "    text = text.translate(str.maketrans('', '', string.punctuation))  # Remove punctuation\n",
        "    return text\n",
        "\n",
        "# Step 4: Apply preprocessing to all messages\n",
        "df['clean_message'] = df['message'].apply(clean_text)\n",
        "\n",
        "# Step 5: Apply TF-IDF vectorization\n",
        "vectorizer = TfidfVectorizer(stop_words='english', ngram_range=(1, 2))\n",
        "X = vectorizer.fit_transform(df['clean_message'])  # Numerical feature matrix\n"
      ],
      "metadata": {
        "id": "iOB9I5T4Jsrg"
      },
      "execution_count": null,
      "outputs": []
    },
    {
      "cell_type": "code",
      "source": [
        "from sklearn.model_selection import train_test_split\n",
        "from sklearn.linear_model import LogisticRegression\n",
        "from sklearn.naive_bayes import MultinomialNB\n",
        "from sklearn.ensemble import RandomForestClassifier\n",
        "from sklearn.svm import SVC\n",
        "# Uncomment classification_report\n",
        "from sklearn.metrics import accuracy_score, f1_score, precision_score, recall_score, classification_report\n",
        "\n",
        "def encode_labels(df):\n",
        "    # Return the encoded labels\n",
        "    return df['label'].map({'ham': 0, 'spam': 1}).fillna(-1)\n",
        "\n",
        "def train_models(X, y):\n",
        "    # Convert the boolean pandas Series to a NumPy array for indexing the sparse matrix\n",
        "    y_filter = (y != -1).values\n",
        "    X_filtered = X[y_filter]\n",
        "    y_filtered = y[y_filter]\n",
        "\n",
        "    # Ensure y_filtered is also a numpy array or similar for train_test_split\n",
        "    if isinstance(y_filtered, pd.Series):\n",
        "        y_filtered = y_filtered.values\n",
        "\n",
        "    X_train, X_test, y_train, y_test = train_test_split(X_filtered, y_filtered, test_size=0.2, random_state=42)\n",
        "\n",
        "    models = {\n",
        "        \"Logistic Regression\": LogisticRegression(max_iter=1000),\n",
        "        \"Naive Bayes\": MultinomialNB(),\n",
        "        \"Random Forest\": RandomForestClassifier(),\n",
        "        \"SVM\": SVC(probability=True)\n",
        "    }\n",
        "\n",
        "    for name, model in models.items():\n",
        "        model.fit(X_train, y_train)\n",
        "        y_pred = model.predict(X_test)\n",
        "        print(f\"\\n{name} Accuracy: {accuracy_score(y_test, y_pred):.2f}\")\n",
        "        # Ensure y_test and y_pred are compatible types for classification_report\n",
        "        print(classification_report(y_test, y_pred))\n",
        "\n",
        "# Apply the encoding and update the 'label' column before calling train_models\n",
        "df['label'] = encode_labels(df)\n",
        "\n",
        "# Call train_models with the updated label column\n",
        "train_models(X, df['label'])"
      ],
      "metadata": {
        "colab": {
          "base_uri": "https://localhost:8080/"
        },
        "id": "qSQl6GpxKmHH",
        "outputId": "4377525e-31ae-4291-c40f-ea490194f7f7"
      },
      "execution_count": null,
      "outputs": [
        {
          "output_type": "stream",
          "name": "stdout",
          "text": [
            "\n",
            "Logistic Regression Accuracy: 0.93\n",
            "              precision    recall  f1-score   support\n",
            "\n",
            "           0       0.93      1.00      0.96       955\n",
            "           1       0.99      0.54      0.70       160\n",
            "\n",
            "    accuracy                           0.93      1115\n",
            "   macro avg       0.96      0.77      0.83      1115\n",
            "weighted avg       0.94      0.93      0.93      1115\n",
            "\n",
            "\n",
            "Naive Bayes Accuracy: 0.95\n",
            "              precision    recall  f1-score   support\n",
            "\n",
            "           0       0.95      1.00      0.97       955\n",
            "           1       1.00      0.67      0.80       160\n",
            "\n",
            "    accuracy                           0.95      1115\n",
            "   macro avg       0.97      0.83      0.89      1115\n",
            "weighted avg       0.95      0.95      0.95      1115\n",
            "\n",
            "\n",
            "Random Forest Accuracy: 0.97\n",
            "              precision    recall  f1-score   support\n",
            "\n",
            "           0       0.96      1.00      0.98       955\n",
            "           1       1.00      0.78      0.87       160\n",
            "\n",
            "    accuracy                           0.97      1115\n",
            "   macro avg       0.98      0.89      0.93      1115\n",
            "weighted avg       0.97      0.97      0.97      1115\n",
            "\n",
            "\n",
            "SVM Accuracy: 0.96\n",
            "              precision    recall  f1-score   support\n",
            "\n",
            "           0       0.96      1.00      0.98       955\n",
            "           1       0.99      0.74      0.85       160\n",
            "\n",
            "    accuracy                           0.96      1115\n",
            "   macro avg       0.97      0.87      0.91      1115\n",
            "weighted avg       0.96      0.96      0.96      1115\n",
            "\n"
          ]
        }
      ]
    }
  ],
  "metadata": {
    "colab": {
      "provenance": []
    },
    "kernelspec": {
      "display_name": "Python 3",
      "name": "python3"
    },
    "language_info": {
      "name": "python"
    }
  },
  "nbformat": 4,
  "nbformat_minor": 0
}